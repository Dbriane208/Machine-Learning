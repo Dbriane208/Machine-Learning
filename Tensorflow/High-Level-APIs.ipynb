{
 "cells": [
  {
   "cell_type": "markdown",
   "id": "417b38a5-b90b-4495-a486-5f4fd700ec28",
   "metadata": {},
   "source": [
    "## The Sequential API\n",
    "- This API assumes you have an:\n",
    "     - input layer,\n",
    "     -  some number of hidden layers\n",
    "     -  and an output layer.\n",
    "-  The layers are ordered in a sequence.\n",
    "-  Building a sequential model"
   ]
  },
  {
   "cell_type": "code",
   "execution_count": null,
   "id": "3c4802cc-a0cc-4301-b544-bb689aac010a",
   "metadata": {},
   "outputs": [],
   "source": [
    "# Import tensorflow\n",
    "from tensorflow import keras\n",
    "\n",
    "# Define a sequential model\n",
    "model = keras.Sequential()\n",
    "\n",
    "# Define the first hidden layer\n",
    "model.add(keras.layer.Dense(16, activation='relu', input_shape=(28*28,)))\n",
    "\n",
    "# Define the second hidden layer\n",
    "model.add(keras.layer.Dense(8, activation='relu'))\n",
    "\n",
    "# Define the output layer\n",
    "model.add(keras.layers.Dense(4, activation='softmax'))\n",
    "\n",
    "# Compile the model\n",
    "model.compile('adam', loss='categorical_crossentropy')\n",
    "\n",
    "# Summarize the model\n",
    "print(model.summary())"
   ]
  },
  {
   "cell_type": "markdown",
   "id": "8dac1972-dde6-4f15-8f0e-4d242e56cccc",
   "metadata": {},
   "source": [
    "## The Functional API\n",
    "- Used to train two models jointly to predict the same target."
   ]
  },
  {
   "cell_type": "code",
   "execution_count": null,
   "id": "4727ee0d-1358-44a6-a11e-c99b021eb674",
   "metadata": {},
   "outputs": [],
   "source": [
    "# Import tensorflow\n",
    "import tensorflow as tf\n",
    "\n",
    "# Define model input layer shape\n",
    "model1_inputs = tf.keras.Input(shape=(28*28,))\n",
    "model2_inputs = tf.keras.Input(shape=(10,))\n",
    "\n",
    "# Define layer 1 for model 1 and layer 2 for model 1\n",
    "model1_layer1 = tf.keras.layers.Dense(12, activations='relu')(model1_inputs)\n",
    "model1_layer2 = tf.keras.layers.Dense(4, activations='softmax')(model1_layer1)\n",
    "\n",
    "# Define layer 1 for model 2 and layer 2 for model 2\n",
    "model2_layer1 = tf.keras.layers.Dense(8, activations='relu')(model2_inputs)\n",
    "model2_layer2 = tf.keras.layers.Dense(4, activations='softmax')(model2_layer1)\n",
    "\n",
    "# Merge model 1 and model 2\n",
    "merged = tf.keras.layers.add([model1_layer2,model2_layer2])\n",
    "\n",
    "# Define a functional model\n",
    "model = tf.keras.Model(inputs = [model1_inputs,model2_inputs],outputs = merged)\n",
    "\n",
    "# Compile the model\n",
    "model.compile('adam', loss='categorical_crossentropy')\n"
   ]
  },
  {
   "cell_type": "markdown",
   "id": "ad2c5361-0c33-4480-b086-420749fd16ae",
   "metadata": {},
   "source": [
    "## Training with Keras\n",
    "- Steps of training and evaluation\n",
    "     - Load and clean data\n",
    "     - Define model\n",
    "     - Train and validate model\n",
    "     - Evaluate model"
   ]
  },
  {
   "cell_type": "code",
   "execution_count": null,
   "id": "30b56d6f-85be-4c1f-87be-85ac5c601c88",
   "metadata": {},
   "outputs": [],
   "source": [
    "# Import tensorflow\n",
    "import tensorflow as tf\n",
    "\n",
    "# Define a sequential model\n",
    "model = tf.keras.Sequential()\n",
    "\n",
    "# Define the hidden layer\n",
    "model.add(tf.keras.layers.Dense(16, activation='relu',input_shape=(784,)))\n",
    "\n",
    "# Define the output layer\n",
    "model.add(tf.keras.Dense(4,activation='softmax'))\n",
    "\n",
    "# Compile the model\n",
    "model.compile('adam', loss='categorical_crossentropy')\n",
    "\n",
    "# Train model\n",
    "model.fit(image_features, image_labels)"
   ]
  },
  {
   "cell_type": "markdown",
   "id": "fd8546bc-a81f-49ec-814d-69e0ae81a31a",
   "metadata": {},
   "source": [
    "- The fit() operation requires arguments such as: features, labels, batch_size, epochs, validation_split\n",
    "- Epochs: the number of times you train on full set of batches. Using multiple epoch allows the model to revisit the same batches, but with different model weights and possibly optimizer parameters, since they are updated after each batch.\n",
    "- Validation_split: divides the dataset into two parts. Enables you to see how the model performs on both the data it was trained on, the training set and seperate dataset it was nto trained on."
   ]
  },
  {
   "cell_type": "code",
   "execution_count": null,
   "id": "64394a5c-ef37-4df7-9569-6ec8483205af",
   "metadata": {},
   "outputs": [],
   "source": [
    "# Train model with validation split\n",
    "model.fit(features,labels,epochs=10,validation_split=0.20)"
   ]
  },
  {
   "cell_type": "markdown",
   "id": "4c8ab794-0424-4ab3-941b-3080d906e33d",
   "metadata": {},
   "source": [
    "- NB: If the training loss becomes substantially lower than the validation loss, this is an indication that were overfitting. We should either terminate the process before theat point or add regularization or dropout.\n",
    "- We can evaluate the model performance"
   ]
  },
  {
   "cell_type": "code",
   "execution_count": null,
   "id": "96ccdd6e-e7b0-4379-8dde-200502002af6",
   "metadata": {},
   "outputs": [],
   "source": [
    "# Recompile the model with accuracy metric\n",
    "model.compile('adam', loss='categorical_crossentropy', metrics=['accuracy'])\n",
    "\n",
    "# Train model with validation split\n",
    "model.fit(features,labels,epoch=10,validation_split=0.20)\n",
    "\n",
    "# Evaluate the test set\n",
    "model.evaluate(test)"
   ]
  },
  {
   "cell_type": "markdown",
   "id": "511ab1e9-676e-42c1-9631-43eaae4191ac",
   "metadata": {},
   "source": [
    "- NB: If the validation loss is greater than the training loss that means the model has overfitted"
   ]
  }
 ],
 "metadata": {
  "kernelspec": {
   "display_name": "Python 3 (ipykernel)",
   "language": "python",
   "name": "python3"
  },
  "language_info": {
   "codemirror_mode": {
    "name": "ipython",
    "version": 3
   },
   "file_extension": ".py",
   "mimetype": "text/x-python",
   "name": "python",
   "nbconvert_exporter": "python",
   "pygments_lexer": "ipython3",
   "version": "3.12.7"
  }
 },
 "nbformat": 4,
 "nbformat_minor": 5
}
