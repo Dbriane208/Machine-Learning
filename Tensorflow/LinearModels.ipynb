{
 "cells": [
  {
   "cell_type": "markdown",
   "id": "bd69a4c4-7544-45bb-9239-b71fa16e5e99",
   "metadata": {},
   "source": [
    "### Importing data and converting data\n",
    "- We can use pandas or tensorflow to import data\n",
    "- Tensorflow is used when we have complex data pipelines\n",
    "- Pandas is used for simple data formats"
   ]
  },
  {
   "cell_type": "code",
   "execution_count": 13,
   "id": "8d94c9df-d9d3-4fb1-8d27-a29097636351",
   "metadata": {},
   "outputs": [
    {
     "data": {
      "text/html": [
       "<div>\n",
       "<style scoped>\n",
       "    .dataframe tbody tr th:only-of-type {\n",
       "        vertical-align: middle;\n",
       "    }\n",
       "\n",
       "    .dataframe tbody tr th {\n",
       "        vertical-align: top;\n",
       "    }\n",
       "\n",
       "    .dataframe thead th {\n",
       "        text-align: right;\n",
       "    }\n",
       "</style>\n",
       "<table border=\"1\" class=\"dataframe\">\n",
       "  <thead>\n",
       "    <tr style=\"text-align: right;\">\n",
       "      <th></th>\n",
       "      <th>Hours of Sleep</th>\n",
       "      <th>Hours Studied</th>\n",
       "      <th>Grade on Test</th>\n",
       "      <th>Grade in Class</th>\n",
       "      <th>Cups of Coffee</th>\n",
       "    </tr>\n",
       "  </thead>\n",
       "  <tbody>\n",
       "    <tr>\n",
       "      <th>0</th>\n",
       "      <td>10.602667</td>\n",
       "      <td>4.586892</td>\n",
       "      <td>99</td>\n",
       "      <td>99.187294</td>\n",
       "      <td>5</td>\n",
       "    </tr>\n",
       "    <tr>\n",
       "      <th>1</th>\n",
       "      <td>8.172997</td>\n",
       "      <td>4.405120</td>\n",
       "      <td>72</td>\n",
       "      <td>67.070903</td>\n",
       "      <td>3</td>\n",
       "    </tr>\n",
       "    <tr>\n",
       "      <th>2</th>\n",
       "      <td>6.430132</td>\n",
       "      <td>0.519630</td>\n",
       "      <td>52</td>\n",
       "      <td>39.644696</td>\n",
       "      <td>4</td>\n",
       "    </tr>\n",
       "    <tr>\n",
       "      <th>3</th>\n",
       "      <td>7.963793</td>\n",
       "      <td>5.004348</td>\n",
       "      <td>80</td>\n",
       "      <td>61.843705</td>\n",
       "      <td>1</td>\n",
       "    </tr>\n",
       "    <tr>\n",
       "      <th>4</th>\n",
       "      <td>8.279421</td>\n",
       "      <td>2.984489</td>\n",
       "      <td>87</td>\n",
       "      <td>103.495002</td>\n",
       "      <td>0</td>\n",
       "    </tr>\n",
       "  </tbody>\n",
       "</table>\n",
       "</div>"
      ],
      "text/plain": [
       "   Hours of Sleep  Hours Studied  Grade on Test  Grade in Class  \\\n",
       "0       10.602667       4.586892             99       99.187294   \n",
       "1        8.172997       4.405120             72       67.070903   \n",
       "2        6.430132       0.519630             52       39.644696   \n",
       "3        7.963793       5.004348             80       61.843705   \n",
       "4        8.279421       2.984489             87      103.495002   \n",
       "\n",
       "   Cups of Coffee  \n",
       "0               5  \n",
       "1               3  \n",
       "2               4  \n",
       "3               1  \n",
       "4               0  "
      ]
     },
     "execution_count": 13,
     "metadata": {},
     "output_type": "execute_result"
    }
   ],
   "source": [
    "# Import numpy and pandas\n",
    "import numpy as np\n",
    "import pandas as pd\n",
    "\n",
    "# load data from csv\n",
    "students = pd.read_csv(\"../student_data.csv\")\n",
    "\n",
    "# print\n",
    "students.head()\n",
    "\n",
    "# convert to numpy array\n",
    "#students_np = np.array(students)\n",
    "\n",
    "# print\n",
    "#students_np"
   ]
  },
  {
   "cell_type": "markdown",
   "id": "f82a3870-644f-4937-9c88-f390d76b1958",
   "metadata": {},
   "source": [
    "### Defining a loss function"
   ]
  },
  {
   "cell_type": "code",
   "execution_count": 1,
   "id": "06058b5d-b476-475c-953f-67beddb1573a",
   "metadata": {},
   "outputs": [],
   "source": [
    "# Import tensorflow\n",
    "import tensorflow as tf\n",
    "from tensorflow import keras\n",
    "\n",
    "# compute the mse loss. mse will return a single number i.e the average of the squared differences between the actual and predicted values\n",
    "loss = tf.keras.losses.mse(targets,predictions)\n",
    "\n",
    "# Design a linear regression model\n",
    "def linear_regression(intercept,slope=slope,features=features):\n",
    "    return intercept + features * slopes\n",
    "\n",
    "# Define a loss function to compute MSE\n",
    "def loss_function(intercept,slope,targets=targets,features=features):\n",
    "    # compute the predictions for a model\n",
    "    predictions = linear_regression(intercept,slope)\n",
    "    # return the loss\n",
    "    return tf.keras.losses.mse(targets,2,predictions)\n",
    "\n",
    "# compute the loss for test data inputs\n",
    "loss_function(intercept,slope,test_targets,test_features)\n",
    "\n",
    "# compute the loss for default data inputs\n",
    "loss_function(intercept,slope)\n"
   ]
  },
  {
   "cell_type": "markdown",
   "id": "1d56ce0a-eb00-4b8e-a410-49f952e66385",
   "metadata": {},
   "source": [
    "### Loss functions in Tensorflow\n",
    "- Import the keras module from tensorflow.\n",
    "- Then, use price and predictions to compute the mean squared error (mse).\n",
    "### The MAE is less than the MSE for this kind of data we were given"
   ]
  },
  {
   "cell_type": "code",
   "execution_count": null,
   "id": "82903136-c608-4e6e-bc92-426eb4ac33c9",
   "metadata": {},
   "outputs": [],
   "source": [
    "# Import the keras module from tensorflow\n",
    "from tensorflow import keras\n",
    "\n",
    "# Compute the mean squared error (mse)\n",
    "loss = keras.losses.mse(price, predictions)\n",
    "\n",
    "# Print the mean squared error (mse)\n",
    "print(loss.numpy())\n",
    "\n",
    "# Using the mean absolute error(mae)\n",
    "mae_loss = keras.losses.mae(price,predictions)\n",
    "\n",
    "# Print the mean squared error (mae)\n",
    "print(mae_loss.numpy())"
   ]
  },
  {
   "cell_type": "markdown",
   "id": "322de046-c2a7-4758-af50-d59c71cb8f9e",
   "metadata": {},
   "source": [
    "### Modifying the loss function\n",
    "- Define a variable, scalar, with an initial value of 1.0 and a type of float32.\n",
    "- Define a function called loss_function(), which takes scalar, features, and targets as arguments in that order.\n",
    "- Use a mean absolute error loss function."
   ]
  },
  {
   "cell_type": "code",
   "execution_count": null,
   "id": "a6e4c6e0-9cc5-4503-804b-03bbf2568765",
   "metadata": {},
   "outputs": [],
   "source": [
    "# Initialize a variable named scalar\n",
    "scalar = Variable(1.0, dtype='float32')\n",
    "\n",
    "# Define the model\n",
    "def model(scalar, features = features):\n",
    "  \treturn scalar * features\n",
    "\n",
    "# Define a loss function\n",
    "def loss_function(scalar, features = features, targets = targets):\n",
    "\t# Compute the predicted values\n",
    "\tpredictions = model(scalar, features)\n",
    "    \n",
    "\t# Return the mean absolute error loss\n",
    "\treturn keras.losses.mae(targets, predictions)\n",
    "\n",
    "# Evaluate the loss function and print the loss\n",
    "print(loss_function(scalar).numpy())"
   ]
  },
  {
   "cell_type": "code",
   "execution_count": null,
   "id": "9961b412-bb55-4367-9386-b1b94e702561",
   "metadata": {},
   "outputs": [],
   "source": []
  }
 ],
 "metadata": {
  "kernelspec": {
   "display_name": "Python 3 (ipykernel)",
   "language": "python",
   "name": "python3"
  },
  "language_info": {
   "codemirror_mode": {
    "name": "ipython",
    "version": 3
   },
   "file_extension": ".py",
   "mimetype": "text/x-python",
   "name": "python",
   "nbconvert_exporter": "python",
   "pygments_lexer": "ipython3",
   "version": "3.10.12"
  }
 },
 "nbformat": 4,
 "nbformat_minor": 5
}
