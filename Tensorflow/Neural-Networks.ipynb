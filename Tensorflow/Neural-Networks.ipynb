{
 "cells": [
  {
   "cell_type": "markdown",
   "id": "08bb34c9-a7a3-4aad-bf64-bfccc82f16e8",
   "metadata": {},
   "source": [
    "### The linear algebra of dense layers\n",
    "- The input layer contains 3 features -- education, marital status, and age -- which are available as borrower_features. The hidden layer contains 2 nodes and the output layer contains a single node.\n",
    "- For each layer, you will take the previous layer as an input, initialize a set of weights, compute the product of the inputs and weights, and then apply an activation function."
   ]
  },
  {
   "cell_type": "code",
   "execution_count": null,
   "id": "1c6cb2fe-a081-4097-ae7b-c818239538fb",
   "metadata": {},
   "outputs": [],
   "source": [
    "# Initialize bias1\n",
    "bias1 = Variable(1.0)\n",
    "\n",
    "# Initialize weights1 as 3x2 variable of ones\n",
    "weights1 = Variable(ones((3,2)))\n",
    "\n",
    "# Perform matrix multiplication of borrower_features and weights1\n",
    "product1 = matmul(borrower_features,weights1)\n",
    "\n",
    "# Apply sigmoid activation function to product1 + bias1\n",
    "dense1 = keras.activations.sigmoid(product1 + bias1)\n",
    "\n",
    "# Print shape of dense1\n",
    "print(\"\\n dense1's output shape: {}\".format(dense1.shape))"
   ]
  },
  {
   "cell_type": "markdown",
   "id": "a47bd5c5-a511-407b-b0f8-856cedad7667",
   "metadata": {},
   "source": [
    "- Initialize weights2 as a variable using a 2x1 tensor of ones.\n",
    "- Compute the product of dense1 by weights2 using matrix multiplication.\n",
    "- Use a sigmoid activation function to transform product2 + bias2."
   ]
  },
  {
   "cell_type": "code",
   "execution_count": null,
   "id": "2f6d44bd-71d7-4b16-aa3f-bf7cfd3c9329",
   "metadata": {},
   "outputs": [],
   "source": [
    "# From previous step\n",
    "bias1 = Variable(1.0)\n",
    "weights1 = Variable(ones((3, 2)))\n",
    "product1 = matmul(borrower_features, weights1)\n",
    "dense1 = keras.activations.sigmoid(product1 + bias1)\n",
    "\n",
    "# Initialize bias2 and weights2\n",
    "bias2 = Variable(1.0)\n",
    "weights2 = Variable(ones((2, 1)))\n",
    "\n",
    "# Perform matrix multiplication of dense1 and weights2\n",
    "product2 = matmul(dense1,weights2)\n",
    "\n",
    "# Apply activation to product2 + bias2 and print the prediction\n",
    "prediction = keras.activations.sigmoid(product2 + bias2)\n",
    "print('\\n prediction: {}'.format(prediction.numpy()[0,0]))\n",
    "print('\\n actual: 1')"
   ]
  },
  {
   "cell_type": "markdown",
   "id": "3a84acbd-aa21-4fca-a37e-63afdc7f4c7b",
   "metadata": {},
   "source": [
    "### Using the dense layer operation\n",
    "- In this example, we'll skip the linear algebra and let keras work out the details. This will allow us to construct the network below, which has 2 hidden layers and 10 features, using less code than we needed for the network with 1 hidden layer and 3 features.\n",
    "- To construct this network, we'll need to define three dense layers, each of which takes the previous layer as an input, multiplies it by weights, and applies an activation function. Note that input data has been defined and is available as a 100x10 tensor: borrower_features"
   ]
  },
  {
   "cell_type": "code",
   "execution_count": null,
   "id": "1adaf6c2-bf6f-4ddb-a3ed-fb310aa9b0a1",
   "metadata": {},
   "outputs": [],
   "source": [
    "# Define the first dense layer\n",
    "dense1 = keras.layers.Dense(7, activation='sigmoid')(borrower_features)\n",
    "\n",
    "# Define a dense layer with 3 output nodes\n",
    "dense2 = keras.layers.Dense(3,activation='sigmoid')(dense1)\n",
    "\n",
    "# Define a dense layer with 1 output node\n",
    "predictions = keras.layers.Dense(1,activation='sigmoid')(dense2)\n",
    "\n",
    "# Print the shapes of dense1, dense2, and predictions\n",
    "print('\\n shape of dense1: ', dense1.shape)\n",
    "print('\\n shape of dense2: ', dense2.shape)\n",
    "print('\\n shape of predictions: ', predictions.shape)"
   ]
  },
  {
   "cell_type": "markdown",
   "id": "5a75f689-a2e6-4727-bb7b-6275364017b7",
   "metadata": {},
   "source": [
    "### Activation functions\n",
    "- These are mathematical function applied to the output of a neuron. The purpose fo an activation function is to introduce non-linearity to the model, allowing the network to learn and represent complex patterns in the data.\n",
    "- A typical hidden layer consists of two operations:\n",
    "    - Linear - performs matrix multiplication\n",
    "    - Non-linear - applies an activation function\n",
    "- Example of Activation function include:\n",
    "    - The sigmoid activation - applied on the output layer of binary classification\n",
    "    - The relu activation - applied in all the hidden layers\n",
    "    - Teh softmax activation - applied in the output layer in classification with more than two classes     "
   ]
  },
  {
   "cell_type": "code",
   "execution_count": null,
   "id": "0bb0477b-d6c9-43d9-b27d-edd1a8256e21",
   "metadata": {},
   "outputs": [],
   "source": [
    "# Define input layer\n",
    "inputs = tf.constant(borrower_features,tf.float32)\n",
    "\n",
    "# Define dense layer 1\n",
    "dense1 = tf.keras.layers.Dense(16,activation='relu')(inputs)\n",
    "\n",
    "# Define dense layer 2\n",
    "dense2 = tf.keras.layers.Dense(8,activation='sigmoid')(dense1)\n",
    "\n",
    "# Define output layer\n",
    "output1 = tf.keras.layers.Dense(4,activation='softmax')(dense2)"
   ]
  },
  {
   "cell_type": "markdown",
   "id": "69255532-f2fa-4da5-9686-88c2980de3df",
   "metadata": {},
   "source": [
    "### Binary classification problems\n",
    "- In this exercise, you will again make use of credit card data. The target variable, default, indicates whether a credit card holder defaults on his or her payment in the following period. Since there are only two options--default or not--this is a binary classification problem.\n",
    "- Define inputs as a 32-bit floating point constant tensor using bill_amounts.\n",
    "- Set dense1 to be a dense layer with 3 output nodes and a relu activation function.\n",
    "- Set dense2 to be a dense layer with 2 output nodes and a relu activation function.\n",
    "- Set the output layer to be a dense layer with a single output node and a sigmoid activation function.\n"
   ]
  },
  {
   "cell_type": "code",
   "execution_count": null,
   "id": "68b79f19-b199-4ad0-b470-8f9ec3f7d470",
   "metadata": {},
   "outputs": [],
   "source": [
    "# Construct input layer from features\n",
    "inputs = constant(bill_amounts,float32)\n",
    "\n",
    "# Define first dense layer\n",
    "dense1 = keras.layers.Dense(3, activation='relu')(inputs)\n",
    "\n",
    "# Define second dense layer\n",
    "dense2 = keras.layers.Dense(2,activation='relu')(dense1)\n",
    "\n",
    "# Define output layer\n",
    "outputs = keras.layers.Dense(1,activation='sigmoid')(dense2)\n",
    "\n",
    "# Print error for first five examples\n",
    "error = default[:5] - outputs.numpy()[:5]\n",
    "print(error)"
   ]
  },
  {
   "cell_type": "markdown",
   "id": "8ba86f54-95f9-42b1-a330-f0992b37a5c1",
   "metadata": {},
   "source": [
    "### Multiclass classification problems\n",
    "- In this exercise, we expand beyond binary classification to cover multiclass problems. A multiclass problem has targets that can take on three or more values. In the credit card dataset, the education variable can take on 6 different values, each corresponding to a different level of education.\n",
    "- Define the input layer as a 32-bit constant tensor using borrower_features.\n",
    "- Set the first dense layer to have 10 output nodes and a sigmoid activation function.\n",
    "- Set the second dense layer to have 8 output nodes and a rectified linear unit activation function.\n",
    "- Set the output layer to have 6 output nodes and the appropriate activation function."
   ]
  },
  {
   "cell_type": "code",
   "execution_count": null,
   "id": "e57443c4-aebd-489e-aa9e-d2bdfeab3e12",
   "metadata": {},
   "outputs": [],
   "source": [
    "# Construct input layer from borrower features\n",
    "inputs = constant(borrower_features,float32)\n",
    "\n",
    "# Define first dense layer\n",
    "dense1 = keras.layers.Dense(10, activation='sigmoid')(inputs)\n",
    "\n",
    "# Define second dense layer\n",
    "dense2 = keras.layers.Dense(8, activation='relu')(dense1)\n",
    "\n",
    "# Define output layer\n",
    "outputs = keras.layers.Dense(6, activation='softmax')(dense2)\n",
    "\n",
    "# Print first five predictions\n",
    "print(outputs.numpy()[:5])"
   ]
  }
 ],
 "metadata": {
  "kernelspec": {
   "display_name": "Python 3 (ipykernel)",
   "language": "python",
   "name": "python3"
  },
  "language_info": {
   "codemirror_mode": {
    "name": "ipython",
    "version": 3
   },
   "file_extension": ".py",
   "mimetype": "text/x-python",
   "name": "python",
   "nbconvert_exporter": "python",
   "pygments_lexer": "ipython3",
   "version": "3.10.12"
  }
 },
 "nbformat": 4,
 "nbformat_minor": 5
}
