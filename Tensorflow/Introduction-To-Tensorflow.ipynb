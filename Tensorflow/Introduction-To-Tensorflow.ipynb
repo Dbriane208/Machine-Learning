{
 "cells": [
  {
   "cell_type": "code",
   "execution_count": 1,
   "id": "230a199e-e9c1-4e98-9237-850e7ec316bd",
   "metadata": {},
   "outputs": [
    {
     "name": "stderr",
     "output_type": "stream",
     "text": [
      "2024-07-05 22:06:09.221925: I external/local_tsl/tsl/cuda/cudart_stub.cc:32] Could not find cuda drivers on your machine, GPU will not be used.\n",
      "2024-07-05 22:06:09.307633: I external/local_tsl/tsl/cuda/cudart_stub.cc:32] Could not find cuda drivers on your machine, GPU will not be used.\n",
      "2024-07-05 22:06:09.397155: E external/local_xla/xla/stream_executor/cuda/cuda_fft.cc:479] Unable to register cuFFT factory: Attempting to register factory for plugin cuFFT when one has already been registered\n",
      "2024-07-05 22:06:09.489921: E external/local_xla/xla/stream_executor/cuda/cuda_dnn.cc:10575] Unable to register cuDNN factory: Attempting to register factory for plugin cuDNN when one has already been registered\n",
      "2024-07-05 22:06:09.490465: E external/local_xla/xla/stream_executor/cuda/cuda_blas.cc:1442] Unable to register cuBLAS factory: Attempting to register factory for plugin cuBLAS when one has already been registered\n",
      "2024-07-05 22:06:09.636572: I tensorflow/core/platform/cpu_feature_guard.cc:210] This TensorFlow binary is optimized to use available CPU instructions in performance-critical operations.\n",
      "To enable the following instructions: AVX2 FMA, in other operations, rebuild TensorFlow with the appropriate compiler flags.\n",
      "2024-07-05 22:06:11.045605: W tensorflow/compiler/tf2tensorrt/utils/py_utils.cc:38] TF-TRT Warning: Could not find TensorRT\n"
     ]
    }
   ],
   "source": [
    "# Importing tensorflow\n",
    "import tensorflow as tf"
   ]
  },
  {
   "cell_type": "markdown",
   "id": "833c5f8f-e783-4785-96d7-d0eb6131eeef",
   "metadata": {},
   "source": [
    "# Tensors"
   ]
  },
  {
   "cell_type": "code",
   "execution_count": 2,
   "id": "44f17939-e512-4307-95d8-402c459a532f",
   "metadata": {},
   "outputs": [
    {
     "name": "stdout",
     "output_type": "stream",
     "text": [
      "tf.Tensor([1.], shape=(1,), dtype=float32)\n"
     ]
    }
   ],
   "source": [
    "# 0 Dimensional tensor\n",
    "d0 = tf.ones((1,))\n",
    "print(d0)"
   ]
  },
  {
   "cell_type": "code",
   "execution_count": 3,
   "id": "58156155-ddc5-4728-9ad9-168dc1d7d73f",
   "metadata": {},
   "outputs": [
    {
     "name": "stdout",
     "output_type": "stream",
     "text": [
      "tf.Tensor(\n",
      "[[1.]\n",
      " [1.]], shape=(2, 1), dtype=float32)\n"
     ]
    }
   ],
   "source": [
    "# 1 Dimensional tensor\n",
    "d1 = tf.ones((2,1))\n",
    "print(d1)"
   ]
  },
  {
   "cell_type": "code",
   "execution_count": 4,
   "id": "2ee91ee8-20e8-4f1a-9b50-41ae5cb5b609",
   "metadata": {},
   "outputs": [
    {
     "name": "stdout",
     "output_type": "stream",
     "text": [
      "tf.Tensor(\n",
      "[[1. 1.]\n",
      " [1. 1.]], shape=(2, 2), dtype=float32)\n"
     ]
    }
   ],
   "source": [
    "# 2 Dimensional tensor\n",
    "d2 = tf.ones((2,2))\n",
    "print(d2)"
   ]
  },
  {
   "cell_type": "code",
   "execution_count": 5,
   "id": "b682b55a-dbe5-4e7a-8818-1c205031f82d",
   "metadata": {},
   "outputs": [
    {
     "name": "stdout",
     "output_type": "stream",
     "text": [
      "tf.Tensor(\n",
      "[[[1. 1.]\n",
      "  [1. 1.]]\n",
      "\n",
      " [[1. 1.]\n",
      "  [1. 1.]]], shape=(2, 2, 2), dtype=float32)\n"
     ]
    }
   ],
   "source": [
    "# 3 Dimensional tensor\n",
    "d3 = tf.ones((2,2,2))\n",
    "print(d3)"
   ]
  },
  {
   "cell_type": "code",
   "execution_count": 6,
   "id": "0d038d85-9845-4b01-90ac-2fdaae4b0f22",
   "metadata": {},
   "outputs": [
    {
     "name": "stdout",
     "output_type": "stream",
     "text": [
      "[[[1. 1.]\n",
      "  [1. 1.]]\n",
      "\n",
      " [[1. 1.]\n",
      "  [1. 1.]]]\n"
     ]
    }
   ],
   "source": [
    "# using the numpy method to print the tensor\n",
    "print(d3.numpy())"
   ]
  },
  {
   "cell_type": "code",
   "execution_count": 7,
   "id": "0fdfdc97-0983-4381-9cdf-590f7988dac2",
   "metadata": {},
   "outputs": [
    {
     "name": "stdout",
     "output_type": "stream",
     "text": [
      "tf.Tensor(\n",
      "[[[[1. 1. 1. 1.]\n",
      "   [1. 1. 1. 1.]\n",
      "   [1. 1. 1. 1.]]\n",
      "\n",
      "  [[1. 1. 1. 1.]\n",
      "   [1. 1. 1. 1.]\n",
      "   [1. 1. 1. 1.]]]], shape=(1, 2, 3, 4), dtype=float32)\n"
     ]
    }
   ],
   "source": [
    "# A4 Dimensional tensor\n",
    "exampleDimension = tf.ones(((1,2,3,4)))\n",
    "print(exampleDimension)                           "
   ]
  },
  {
   "cell_type": "markdown",
   "id": "1fd08ef5-b0ae-4719-b3dd-e4dc5da359a1",
   "metadata": {},
   "source": [
    "# Constants and Variables"
   ]
  },
  {
   "cell_type": "code",
   "execution_count": 8,
   "id": "b39a5913-b900-4e98-a320-6683677c7c3a",
   "metadata": {},
   "outputs": [
    {
     "name": "stdout",
     "output_type": "stream",
     "text": [
      "<tf.Variable 'Variable:0' shape=(6,) dtype=float32, numpy=array([1., 2., 3., 4., 5., 6.], dtype=float32)>\n",
      "<tf.Variable 'Variable:0' shape=(6,) dtype=int32, numpy=array([1, 2, 3, 4, 5, 6], dtype=int32)>\n"
     ]
    }
   ],
   "source": [
    "# Define a variable\n",
    "a0 = tf.Variable([1,2,3,4,5,6],dtype=tf.float32)\n",
    "a1 = tf.Variable([1,2,3,4,5,6],dtypes=tf.int16)\n",
    "\n",
    "print(a0)\n",
    "print(a1)"
   ]
  },
  {
   "cell_type": "code",
   "execution_count": 9,
   "id": "9472d7ec-aaeb-42f6-831e-9c4254a1354c",
   "metadata": {},
   "outputs": [
    {
     "name": "stdout",
     "output_type": "stream",
     "text": [
      "tf.Tensor(2.0, shape=(), dtype=float32)\n"
     ]
    }
   ],
   "source": [
    "# Define a constant\n",
    "b = tf.constant(2,tf.float32)\n",
    "\n",
    "print(b)"
   ]
  },
  {
   "cell_type": "code",
   "execution_count": 10,
   "id": "2e5a4480-8600-4c54-9fd4-a897cb9a54a3",
   "metadata": {},
   "outputs": [
    {
     "name": "stdout",
     "output_type": "stream",
     "text": [
      "tf.Tensor([ 2.  4.  6.  8. 10. 12.], shape=(6,), dtype=float32)\n"
     ]
    }
   ],
   "source": [
    "# compute their product\n",
    "c0 = tf.multiply(a0,b)\n",
    "c1 = a0*b\n",
    "\n",
    "print(c1)"
   ]
  },
  {
   "cell_type": "markdown",
   "id": "ab326216-50c9-4511-aef3-921990a3ba72",
   "metadata": {},
   "source": [
    "# Basic Operations"
   ]
  },
  {
   "cell_type": "markdown",
   "id": "cf094bed-702c-4b01-a125-706e466402d1",
   "metadata": {},
   "source": [
    "### Applying the addition operator\n",
    "- The add() operation performs element-wise addition with two tensors.\n",
    "- Element-wise addition requires both tensors to have the same shape.\n",
    "- The add() operator is overloaded"
   ]
  },
  {
   "cell_type": "code",
   "execution_count": 11,
   "id": "8d440f4c-9299-4ff4-9f1f-def60b78a7d8",
   "metadata": {},
   "outputs": [],
   "source": [
    "# import constant and add from tensorflow\n",
    "from tensorflow import constant,add"
   ]
  },
  {
   "cell_type": "code",
   "execution_count": 12,
   "id": "7299baa5-f4f9-4586-9f26-5f070de42973",
   "metadata": {},
   "outputs": [
    {
     "name": "stdout",
     "output_type": "stream",
     "text": [
      "\n",
      " The value of C0 is:  tf.Tensor([3], shape=(1,), dtype=int32)\n",
      "\n",
      " The value of C1 is:  tf.Tensor([4 6], shape=(2,), dtype=int32)\n",
      "\n",
      " The value of C2 is:  tf.Tensor(\n",
      "[[ 6  8]\n",
      " [10 12]], shape=(2, 2), dtype=int32)\n"
     ]
    }
   ],
   "source": [
    "# define 0-dimensional tensors\n",
    "A0 = constant([1])\n",
    "B0 = constant([2])\n",
    "\n",
    "# define 1-dimensional tensor\n",
    "A1 = constant([1, 2])\n",
    "B1 = constant([3, 4])\n",
    "\n",
    "# define 2-dimensional tensor\n",
    "A2 = constant([[1, 2],[3, 4]])\n",
    "B2 = constant([[5, 6],[7, 8]])\n",
    "\n",
    "# perform tensor addition with add\n",
    "C0 = add(A0,B0)\n",
    "C1 = add(A1,B1)\n",
    "C2 = add(A2,B2)\n",
    "\n",
    "# print the reuslt\n",
    "print('\\n The value of C0 is: ',C0)\n",
    "print('\\n The value of C1 is: ',C1)\n",
    "print('\\n The value of C2 is: ',C2)"
   ]
  },
  {
   "cell_type": "markdown",
   "id": "f52f2662-dc58-46f9-a547-4f41d0bb943b",
   "metadata": {},
   "source": [
    "### How to perform multiplication in TensorFlow\n",
    "- Tensors multiplied using multiply() operation must have the same shape eg [1,2,3] and [3,4,5]\n",
    "- The matmul(A,B) operations multiplies A by B and the number of columns of A must equal the number of rows of B."
   ]
  },
  {
   "cell_type": "code",
   "execution_count": 13,
   "id": "1fa3463b-9759-473b-8dc8-777da7165dfc",
   "metadata": {},
   "outputs": [
    {
     "name": "stdout",
     "output_type": "stream",
     "text": [
      "tf.Tensor([1.], shape=(1,), dtype=float32)\n",
      "tf.Tensor(\n",
      "[[1.]\n",
      " [1.]\n",
      " [1.]], shape=(3, 1), dtype=float32)\n",
      "tf.Tensor(\n",
      "[[3. 3. 3. 3.]\n",
      " [3. 3. 3. 3.]\n",
      " [3. 3. 3. 3.]\n",
      " [3. 3. 3. 3.]], shape=(4, 4), dtype=float32)\n"
     ]
    }
   ],
   "source": [
    "# import operators from tensorflow\n",
    "from tensorflow import ones,matmul,multiply\n",
    "\n",
    "A0 = ones(1)\n",
    "A31 = ones([3,1])\n",
    "A34 = ones([3,4])\n",
    "A43 = ones([4,3])\n",
    "\n",
    "# Valid operations\n",
    "print(multiply(A0,A0))\n",
    "print(multiply(A31,A31))\n",
    "\n",
    "print(matmul(A43,A34))"
   ]
  },
  {
   "cell_type": "markdown",
   "id": "8fdfcfec-df86-4920-905c-f73f8fa0b456",
   "metadata": {},
   "source": [
    "### Summing over tensor dimensions\n",
    "- The reduce_sum() operator sums over the dimensions of a tensor\n",
    "- reduce_sum(A) sums over all dimensions of A\n",
    "- reduce_sum(A,i) sums over dimension i"
   ]
  },
  {
   "cell_type": "code",
   "execution_count": 14,
   "id": "891ba582-48e4-47ff-b279-207f9ca30a59",
   "metadata": {},
   "outputs": [
    {
     "name": "stdout",
     "output_type": "stream",
     "text": [
      "The result of B0 is [[2. 2. 2. 2.]\n",
      " [2. 2. 2. 2.]\n",
      " [2. 2. 2. 2.]]\n",
      "The result of B1 is [[3. 3. 3. 3.]\n",
      " [3. 3. 3. 3.]]\n",
      "The result of B2 is [[4. 4. 4.]\n",
      " [4. 4. 4.]]\n"
     ]
    }
   ],
   "source": [
    "# import operations from tensorflow\n",
    "from tensorflow import ones,reduce_sum,constant,ones_like\n",
    "\n",
    "# Define a 2x3x4 tensor of ones\n",
    "A = ones([2,3,4])\n",
    "\n",
    "# sum over all dimensions\n",
    "B = reduce_sum(A)\n",
    "\n",
    "# Sum over dimensions 0,1,2\n",
    "B0 = reduce_sum(A,0)\n",
    "B1 = reduce_sum(A,1)\n",
    "B2 = reduce_sum(A,2)\n",
    "\n",
    "print(f\"The result of B0 is {B0}\")\n",
    "print(f\"The result of B1 is {B1}\")\n",
    "print(f\"The result of B2 is {B2}\")"
   ]
  },
  {
   "cell_type": "markdown",
   "id": "daf6b704-74c1-4012-92ec-e57389e90ead",
   "metadata": {},
   "source": [
    "### Performing element-wise multiplication\n",
    "- Define the tensors A1 and A23 as constants.\n",
    "- Set B1 to be a tensor of ones with the same shape as A1.\n",
    "- Set B23 to be a tensor of ones with the same shape as A23.\n",
    "- Set C1 and C23 equal to the element-wise products of A1 and B1, and A23 and B23, respectively."
   ]
  },
  {
   "cell_type": "code",
   "execution_count": 15,
   "id": "36393855-2c52-4bec-81d1-0fd2f49eb521",
   "metadata": {},
   "outputs": [
    {
     "name": "stdout",
     "output_type": "stream",
     "text": [
      "\n",
      " C1: [1 2 3 4]\n",
      "\n",
      " C23: [[1 2 3]\n",
      " [1 6 4]]\n"
     ]
    }
   ],
   "source": [
    "# Define tensors A1 and A23 as constants\n",
    "A1 = constant([1,2,3,4])\n",
    "A23 = constant([[1,2,3],[1,6,4]])\n",
    "\n",
    "# Define B1 and B23 to have the correct shape\n",
    "B1 = ones_like([1,2,3,4])\n",
    "B23 = ones_like([[1,2,3],[4,5,6]])\n",
    "\n",
    "# Perform element-wise multiplication\n",
    "C1 = multiply(A1,B1)\n",
    "C23 = multiply(A23,B23)\n",
    "\n",
    "# Print the tensors C1 and C23\n",
    "print('\\n C1: {}'.format(C1.numpy()))\n",
    "print('\\n C23: {}'.format(C23.numpy()))"
   ]
  },
  {
   "cell_type": "markdown",
   "id": "2da9ba2c-a076-4f37-9f3b-6ecb84c2d3b3",
   "metadata": {},
   "source": [
    "### Making predictions with matrix multiplication\n",
    "- Define features, params, and bill as constants.\n",
    "- Compute the predicted value vector, billpred, by multiplying the input data, features, by the parameters, params. Use matrix multiplication, rather than the element-wise product.\n",
    "- Define error as the targets, bill, minus the predicted values, billpred."
   ]
  },
  {
   "cell_type": "code",
   "execution_count": 16,
   "id": "32a2b518-8586-4fe4-8c60-bbf6cd766326",
   "metadata": {},
   "outputs": [
    {
     "name": "stdout",
     "output_type": "stream",
     "text": [
      "[[ 3913]\n",
      " [ 2682]\n",
      " [ 8617]\n",
      " [64400]]\n",
      "[[ 5600]\n",
      " [ 5900]\n",
      " [10550]\n",
      " [ 6550]]\n",
      "[[-1687]\n",
      " [-3218]\n",
      " [-1933]\n",
      " [57850]]\n"
     ]
    }
   ],
   "source": [
    "# Define features, params, and bill as constants\n",
    "features = constant([[2,24],[2,26],[2,57],[1,37]])\n",
    "params = constant([[1000],[150]])\n",
    "bill = constant([[3913],[2682],[8617],[64400]])\n",
    "\n",
    "# Compute billpred using features and params\n",
    "billpred = matmul(features,params)\n",
    "\n",
    "# Compute and print the error\n",
    "error = bill - billpred\n",
    "\n",
    "print(bill.numpy())\n",
    "print(billpred.numpy())\n",
    "\n",
    "print(error.numpy())"
   ]
  },
  {
   "cell_type": "markdown",
   "id": "876638a5-a3af-4a29-a602-a4b973c24d39",
   "metadata": {},
   "source": [
    "### Gradients in Tensorflow\n",
    "- Much of the differentiation you do in deep learning models will be handled by high level APIs; however, gradient tape remains an invaluable tool for building advanced and custom models."
   ]
  },
  {
   "cell_type": "code",
   "execution_count": 17,
   "id": "9c6b1761-ab4d-4b70-bfcd-45a91cacad6a",
   "metadata": {},
   "outputs": [
    {
     "name": "stdout",
     "output_type": "stream",
     "text": [
      "-2.0\n"
     ]
    }
   ],
   "source": [
    "# import tensorflow\n",
    "# import tensorflow as tf\n",
    "\n",
    "# Define x\n",
    "x = tf.Variable(-1.0)\n",
    "\n",
    "# Define y within instance of  Gradient Tape\n",
    "with tf.GradientTape() as tape:\n",
    "    tape.watch(x)\n",
    "    y = tf.multiply(x,x)\n",
    "\n",
    "# Evaluate the gradient of y at x = -1\n",
    "g = tape.gradient(y,x)\n",
    "print(g.numpy())"
   ]
  },
  {
   "cell_type": "markdown",
   "id": "d9d3017c-4236-4aed-a810-95e761d0ec0f",
   "metadata": {},
   "source": [
    "### How to rescale a grayscale image\n",
    "- We will create a random grayscale image by drawing numbers from the set of integers between 0 and 255. We will use these to populate a 2 by 2 matrix. We can then reshape this into a 4 by 1 vector."
   ]
  },
  {
   "cell_type": "code",
   "execution_count": 19,
   "id": "29b8f61d-c331-45b5-b3ca-7de374e6ad4a",
   "metadata": {},
   "outputs": [
    {
     "name": "stdout",
     "output_type": "stream",
     "text": [
      "[[119]\n",
      " [229]\n",
      " [  4]\n",
      " [ 63]]\n"
     ]
    }
   ],
   "source": [
    "# Import tensorflow as tf\n",
    "\n",
    "# Generate grayscale image\n",
    "gray = tf.random.uniform([2,2],maxval=255,dtype='int32')\n",
    "\n",
    "# Reshape grayscale image\n",
    "gray = tf.reshape(gray,[2*2,1])\n",
    "\n",
    "# print\n",
    "print(gray.numpy())"
   ]
  },
  {
   "cell_type": "markdown",
   "id": "fb30e8d9-4aac-4593-b669-dd69a60b1122",
   "metadata": {},
   "source": [
    "### How to rescale a color image"
   ]
  },
  {
   "cell_type": "code",
   "execution_count": 20,
   "id": "c0c01a91-b724-40d9-bf09-2d47fd3080ff",
   "metadata": {},
   "outputs": [
    {
     "name": "stdout",
     "output_type": "stream",
     "text": [
      "[[ 31 231  92]\n",
      " [ 61 179 218]\n",
      " [172 145 110]\n",
      " [  8 191 168]]\n"
     ]
    }
   ],
   "source": [
    "# Import tensorflow as tf\n",
    "\n",
    "# Generate color image\n",
    "color = tf.random.uniform([2,2,3],maxval=255,dtype='int32')\n",
    "\n",
    "# Reshape color image\n",
    "color = tf.reshape(color,[2*2,3])\n",
    "\n",
    "# print\n",
    "print(color.numpy())"
   ]
  },
  {
   "cell_type": "markdown",
   "id": "449fa888-d610-49a7-a717-a061703ba13e",
   "metadata": {},
   "source": [
    "### Reshaping tensors\n",
    "- Reshape gray_tensor from a 28x28 matrix into a 784x1 vector named gray_vector.\n",
    "- Reshape color_tensor from a 28x28x3 tensor into a 2352x1 vector named color_vector."
   ]
  },
  {
   "cell_type": "code",
   "execution_count": 25,
   "id": "eb668662-bd6f-4e7d-99b5-44d693664023",
   "metadata": {},
   "outputs": [
    {
     "name": "stdout",
     "output_type": "stream",
     "text": [
      "[[253]\n",
      " [187]\n",
      " [200]\n",
      " [118]]\n",
      "[[186]\n",
      " [ 17]\n",
      " [ 76]\n",
      " [241]\n",
      " [247]\n",
      " [176]]\n"
     ]
    }
   ],
   "source": [
    "# Import tensorflow\n",
    "\n",
    "# Generate gray and color tensors\n",
    "gray_tensor = tf.random.uniform([1,4],maxval=255,dtype='int32')\n",
    "color_tensor = tf.random.uniform([1,2,3],maxval=255,dtype='int32')\n",
    "\n",
    "# Reshape the grayscale image tensor into a vector\n",
    "gray_vector = tf.reshape(gray_tensor,(4,1))\n",
    "color_vector = tf.reshape(color_tensor,(6,1))\n",
    "\n",
    "# print result\n",
    "print(gray_vector.numpy())\n",
    "print(color_vector.numpy())"
   ]
  },
  {
   "cell_type": "markdown",
   "id": "8ba8a9ae-148e-4500-9e6c-128718720ac6",
   "metadata": {},
   "source": [
    "### Working with image data\n",
    "- The model, model, is 1x3 tensor, but should be a 3x1. Reshape model.\n",
    "- Perform a matrix multiplication of the 3x3 tensor, letter, by the 3x1 tensor, model.\n",
    "- Sum over the resulting tensor, output, and assign this value to prediction.\n",
    "- Print prediction using the .numpy() method to determine whether letter is K."
   ]
  },
  {
   "cell_type": "code",
   "execution_count": 28,
   "id": "3bdde906-ca39-4021-8639-b554ad2736a2",
   "metadata": {},
   "outputs": [
    {
     "name": "stdout",
     "output_type": "stream",
     "text": [
      "274596\n"
     ]
    }
   ],
   "source": [
    "# model is a 1x3 tensor\n",
    "model = tf.random.uniform([1,3],maxval=255,dtype='int32')\n",
    "\n",
    "# Reshape model from a 1x3 to a 3x1 tensor\n",
    "model = tf.reshape(model,(3*1,1))\n",
    "\n",
    "# letter be a 3x3 tensor\n",
    "letter = tf.random.uniform([3,3],maxval=255,dtype='int32')\n",
    "\n",
    "# Multiply letter by model\n",
    "output = tf.matmul(letter,model)\n",
    "\n",
    "# Sum over output and print prediction using the numpy method\n",
    "prediction = reduce_sum(output)\n",
    "print(prediction.numpy())"
   ]
  },
  {
   "cell_type": "code",
   "execution_count": null,
   "id": "4d755299-2b02-422c-aaf8-0ca5321d745f",
   "metadata": {},
   "outputs": [],
   "source": []
  }
 ],
 "metadata": {
  "kernelspec": {
   "display_name": "Python 3 (ipykernel)",
   "language": "python",
   "name": "python3"
  },
  "language_info": {
   "codemirror_mode": {
    "name": "ipython",
    "version": 3
   },
   "file_extension": ".py",
   "mimetype": "text/x-python",
   "name": "python",
   "nbconvert_exporter": "python",
   "pygments_lexer": "ipython3",
   "version": "3.10.12"
  }
 },
 "nbformat": 4,
 "nbformat_minor": 5
}
